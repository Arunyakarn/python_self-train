{
 "cells": [
  {
   "cell_type": "code",
   "execution_count": 4,
   "metadata": {},
   "outputs": [
    {
     "name": "stdout",
     "output_type": "stream",
     "text": [
      "My dog's name is Wlillie.\n",
      "My dog is 6 year old.\n"
     ]
    }
   ],
   "source": [
    "class Dog():\n",
    "    def __init__(self, name, age):\n",
    "        self.name = name\n",
    "        self.age = age\n",
    "        \n",
    "    def sit(self):\n",
    "        print(self.name.title() + \" is now sitting.\")\n",
    "    \n",
    "    def roll_over(self):\n",
    "        print(self.name.title()+ \" rolled over!\")\n",
    "my_dog = Dog('Wlillie', 6)\n",
    "print(\"My dog's name is \"+ my_dog.name.title() + \".\")\n",
    "print(\"My dog is \" + str(my_dog.age)+\" year old.\")"
   ]
  },
  {
   "cell_type": "code",
   "execution_count": 9,
   "metadata": {},
   "outputs": [
    {
     "name": "stdout",
     "output_type": "stream",
     "text": [
      "Wlillie is now sitting.\n",
      "Wlillie rolled over!\n"
     ]
    }
   ],
   "source": [
    "my_dog.sit()\n",
    "my_dog.roll_over()"
   ]
  },
  {
   "cell_type": "code",
   "execution_count": 13,
   "metadata": {},
   "outputs": [
    {
     "name": "stdout",
     "output_type": "stream",
     "text": [
      "Restaurant name is Fagatoo Too. \n",
      "Cuisine type is France. \n",
      "This retaurant has served total 510 time(s).\n"
     ]
    }
   ],
   "source": [
    "class Restaurant():\n",
    "    def __init__(self, name, cuisine_type):\n",
    "        self.name = name\n",
    "        self.cuisine_type = cuisine_type\n",
    "    def describe_restaurant(self):\n",
    "        print(\"Restaurant name is \"+ self.name.title() + \". \")\n",
    "        print(\"Cuisine type is \" + self.cuisine_type.title()+ \". \")\n",
    "    def set_number_served(self, served):\n",
    "        self.number_of_served = served\n",
    "    def update_number_served(self, more_served):\n",
    "        self.number_of_served += more_served\n",
    "        print(\"This retaurant has served total \"+ str(self.number_of_served)+ \" time(s).\")\n",
    "restaurant_01 = Restaurant(\"fagatoo too\", \"France\")\n",
    "restaurant_02 = Restaurant(\"Ubuntoo\", \"Italy\")\n",
    "restaurant_01.describe_restaurant()\n",
    "# restaurant_02.describe_restaurant()\n",
    "restaurant_01.set_number_served(500)\n",
    "restaurant_01.update_number_served(10)"
   ]
  },
  {
   "cell_type": "code",
   "execution_count": 2,
   "metadata": {},
   "outputs": [
    {
     "name": "stdout",
     "output_type": "stream",
     "text": [
      "my dog's name is William.\n",
      "my dog is 5 year old.\n",
      "William is now sitting.\n",
      "William rolled over!\n"
     ]
    }
   ],
   "source": [
    "class Dog():\n",
    "    def __init__(self, name, age):\n",
    "        self.name = name\n",
    "        self.age = age\n",
    "    def sit(self):\n",
    "        print(self.name.title()+ \" is now sitting.\")\n",
    "    def roll_over(self):\n",
    "        print(self.name.title()+ \" rolled over!\")\n",
    "my_dog = Dog(\"william\", 5)\n",
    "\n",
    "print(\"my dog's name is \"+ my_dog.name.title()+ \".\")\n",
    "print(\"my dog is \"+ str(my_dog.age)+ \" year old.\")\n",
    "my_dog.sit()\n",
    "my_dog.roll_over()"
   ]
  },
  {
   "cell_type": "code",
   "execution_count": 2,
   "metadata": {},
   "outputs": [
    {
     "name": "stdout",
     "output_type": "stream",
     "text": [
      "2016 Audi A4\n",
      "This car has 23 miles on it.\n"
     ]
    }
   ],
   "source": [
    "class Car():\n",
    "    def __init__(self, make, model, year):\n",
    "        self.make = make\n",
    "        self.model = model\n",
    "        self.year = year\n",
    "        self.odometer_reading = 0\n",
    "    def get_descriptive_name(self):\n",
    "        long_name = str(self.year)+ ' ' + self.make + ' ' + self.model\n",
    "        return long_name.title()\n",
    "    def read_odometer(self):\n",
    "        print(\"This car has \"+ str(self.odometer_reading) + \" miles on it.\")\n",
    "my_new_car = Car('audi', 'a4', 2016)\n",
    "print(my_new_car.get_descriptive_name())\n",
    "my_new_car.odometer_reading = 23\n",
    "my_new_car.read_odometer()"
   ]
  },
  {
   "cell_type": "code",
   "execution_count": 4,
   "metadata": {},
   "outputs": [
    {
     "name": "stdout",
     "output_type": "stream",
     "text": [
      "2013 Subaru Outback\n",
      "This car has 23500 miles on it.\n",
      "This car has 24500 miles on it.\n"
     ]
    }
   ],
   "source": [
    "class Car():\n",
    "    def __init__(self, make, model, year):\n",
    "        self.make = make\n",
    "        self.model = model\n",
    "        self.year = year\n",
    "    def update_odometer(self, mileage):\n",
    "        self.odometer_reading = mileage\n",
    "    def get_descriptive_name(self):\n",
    "        long_name = str(self.year)+ ' ' + self.make + ' ' + self.model\n",
    "        return long_name.title()\n",
    "    def read_odometer(self):\n",
    "        print(\"This car has \"+ str(self.odometer_reading) + \" miles on it.\")\n",
    "    def increment_odometer(self, miles):\n",
    "        self.odometer_reading += miles\n",
    "my_used_car = Car('subaru', 'outback', 2013)\n",
    "\n",
    "print(my_used_car.get_descriptive_name())\n",
    "my_used_car.update_odometer(23500)\n",
    "my_used_car.read_odometer()\n",
    "my_used_car.increment_odometer(1000)\n",
    "my_used_car.read_odometer()"
   ]
  },
  {
   "cell_type": "code",
   "execution_count": null,
   "metadata": {},
   "outputs": [],
   "source": []
  }
 ],
 "metadata": {
  "kernelspec": {
   "display_name": "Python 3",
   "language": "python",
   "name": "python3"
  },
  "language_info": {
   "codemirror_mode": {
    "name": "ipython",
    "version": 3
   },
   "file_extension": ".py",
   "mimetype": "text/x-python",
   "name": "python",
   "nbconvert_exporter": "python",
   "pygments_lexer": "ipython3",
   "version": "3.7.1"
  }
 },
 "nbformat": 4,
 "nbformat_minor": 2
}
